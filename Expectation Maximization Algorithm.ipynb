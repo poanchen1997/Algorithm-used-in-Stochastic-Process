{
 "cells": [
  {
   "cell_type": "markdown",
   "metadata": {},
   "source": [
    "# EM Algorithm (Expectation Maximization Algorithm)"
   ]
  },
  {
   "cell_type": "markdown",
   "metadata": {},
   "source": [
    "The EM algorithm is tailored to find the MLE when a model involves hidden/latent units."
   ]
  },
  {
   "cell_type": "code",
   "execution_count": 15,
   "metadata": {},
   "outputs": [],
   "source": [
    "import pandas as pd\n",
    "import numpy as np\n",
    "from scipy import stats\n",
    "from scipy.special import logsumexp\n",
    "from sklearn.mixture import GaussianMixture\n",
    "import matplotlib.pyplot as plt"
   ]
  },
  {
   "cell_type": "markdown",
   "metadata": {},
   "source": [
    "This example is used to find out the parameter($\\phi, \\mu_1, \\Sigma_1, \\mu_2, \\Sigma_2$) of the mix-Gaussian distribution."
   ]
  },
  {
   "cell_type": "code",
   "execution_count": 3,
   "metadata": {},
   "outputs": [
    {
     "name": "stdout",
     "output_type": "stream",
     "text": [
      "[[-0.187  0.747]\n",
      " [ 2.824  0.377]\n",
      " [ 0.713  0.766]\n",
      " ...\n",
      " [-1.033 -0.726]\n",
      " [-0.195  0.531]\n",
      " [-2.534 -1.977]]\n"
     ]
    }
   ],
   "source": [
    "data_unlabeled = pd.read_csv(\"data for EM.csv\")\n",
    "x_unlabeled = data_unlabeled[[\"x1\", \"x2\"]].values\n",
    "print(x_unlabeled)  # our data is a 1000 X 2 matrix"
   ]
  },
  {
   "cell_type": "markdown",
   "metadata": {},
   "source": [
    "Before starting implement the algorithm, we need to get the initial guess for our distribution."
   ]
  },
  {
   "cell_type": "code",
   "execution_count": 4,
   "metadata": {},
   "outputs": [],
   "source": [
    "# Get \"valid\" covariance matrix guess\n",
    "# --> the covariance of the multivariate normal distribution should be PSD (Positive Semi-Definite).\n",
    "# --> check here for more detail :\n",
    "# --> https://math.stackexchange.com/questions/2414514/is-the-covariance-matrix-of-multivariate-normal-distribution-has-to-be-positive\n",
    "\n",
    "def get_random_psd(n):\n",
    "    x = np.random.normal(0, 1, size=(n, n))\n",
    "    return np.dot(x, x.transpose())    # dot product the matrix to get the PSD"
   ]
  },
  {
   "cell_type": "code",
   "execution_count": 5,
   "metadata": {},
   "outputs": [],
   "source": [
    "# Here's our initial guess for the Mix-Gaussian model\n",
    "def initialize_random_params():\n",
    "    params = {'phi': np.random.uniform(0, 1),\n",
    "              'mu0': np.random.normal(0, 1, size=(2,)),\n",
    "              'mu1': np.random.normal(0, 1, size=(2,)),\n",
    "              'sigma0': get_random_psd(2),\n",
    "              'sigma1': get_random_psd(2)}\n",
    "    return params"
   ]
  },
  {
   "cell_type": "markdown",
   "metadata": {},
   "source": [
    "## Starting implement algorithm :"
   ]
  },
  {
   "cell_type": "code",
   "execution_count": 23,
   "metadata": {},
   "outputs": [],
   "source": [
    "# Here's our Expectation step\n",
    "def e_step(x, params):\n",
    "    log_p_y_x = np.log([1-params[\"phi\"], params[\"phi\"]])[np.newaxis, ...] + \\\n",
    "                np.log([stats.multivariate_normal(params[\"mu0\"], params[\"sigma0\"]).pdf(x),\n",
    "                        stats.multivariate_normal(params[\"mu1\"], params[\"sigma1\"]).pdf(x)]).T\n",
    "    log_p_y_x_norm = logsumexp(log_p_y_x, axis=1)\n",
    "    return log_p_y_x_norm, np.exp(log_p_y_x - log_p_y_x_norm[..., np.newaxis])"
   ]
  },
  {
   "cell_type": "code",
   "execution_count": 24,
   "metadata": {},
   "outputs": [],
   "source": [
    "# Here's the Maximation step\n",
    "def m_step(x, params):\n",
    "    total_count = x.shape[0]\n",
    "    _, heuristics = e_step(x, params)\n",
    "    heuristic0 = heuristics[:, 0]\n",
    "    heuristic1 = heuristics[:, 1]\n",
    "    sum_heuristic1 = np.sum(heuristic1)\n",
    "    sum_heuristic0 = np.sum(heuristic0)\n",
    "    phi = (sum_heuristic1/total_count)\n",
    "    mu0 = (heuristic0[..., np.newaxis].T.dot(x)/sum_heuristic0).flatten()\n",
    "    mu1 = (heuristic1[..., np.newaxis].T.dot(x)/sum_heuristic1).flatten()\n",
    "    diff0 = x - mu0\n",
    "    sigma0 = diff0.T.dot(diff0 * heuristic0[..., np.newaxis]) / sum_heuristic0\n",
    "    diff1 = x - mu1\n",
    "    sigma1 = diff1.T.dot(diff1 * heuristic1[..., np.newaxis]) / sum_heuristic1\n",
    "    params = {'phi': phi, 'mu0': mu0, 'mu1': mu1, 'sigma0': sigma0, 'sigma1': sigma1}\n",
    "    return params"
   ]
  },
  {
   "cell_type": "code",
   "execution_count": 25,
   "metadata": {},
   "outputs": [],
   "source": [
    "def get_avg_log_likelihood(x, params):\n",
    "    loglikelihood, _ = e_step(x, params)\n",
    "    return np.mean(loglikelihood)\n",
    "\n",
    "\n",
    "def run_em(x, params):\n",
    "    avg_loglikelihoods = []\n",
    "    while True:\n",
    "        avg_loglikelihood = get_avg_log_likelihood(x, params)\n",
    "        avg_loglikelihoods.append(avg_loglikelihood)\n",
    "        if len(avg_loglikelihoods) > 2 and abs(avg_loglikelihoods[-1] - avg_loglikelihoods[-2]) < 0.0001: # 0.0001 is the stopping criterion\n",
    "            break\n",
    "        params = m_step(x_unlabeled, params)\n",
    "\n",
    "    print(\"phi : {} \\nmu_0 : {} \\nmu_1 : {} \\nsigma_0 : {} \\nsigma_1 : {}\".format(params['phi'], params['mu0'], params['mu1'], params['sigma0'], params['sigma1']))\n",
    "    _, posterior = e_step(x_unlabeled, params)\n",
    "    forecasts = np.argmax(posterior, axis=1)\n",
    "    return forecasts, posterior, avg_loglikelihoods"
   ]
  },
  {
   "cell_type": "markdown",
   "metadata": {},
   "source": [
    "## Result and varification :"
   ]
  },
  {
   "cell_type": "code",
   "execution_count": 27,
   "metadata": {
    "scrolled": false
   },
   "outputs": [
    {
     "name": "stdout",
     "output_type": "stream",
     "text": [
      "phi : 0.4232804966581058 \n",
      "mu_0 : [1.00813223 1.00586042] \n",
      "mu_1 : [-1.02714045 -0.99360667] \n",
      "sigma_0 : [[0.70087656 0.13358677]\n",
      " [0.13358677 0.30327431]] \n",
      "sigma_1 : [[0.37355221 0.32928238]\n",
      " [0.32928238 0.7918139 ]]\n",
      "total steps:  26\n"
     ]
    },
    {
     "data": {
      "image/png": "[encoded data removed]",
      "text/plain": [
       "<Figure size 432x288 with 1 Axes>"
      ]
     },
     "metadata": {
      "needs_background": "light"
     },
     "output_type": "display_data"
    }
   ],
   "source": [
    "random_params = initialize_random_params()\n",
    "unsupervised_forecastsforecasts, unsupervised_posterior, unsupervised_loglikelihoods = run_em(x_unlabeled, random_params)\n",
    "print(\"total steps: \", len(unsupervised_loglikelihoods))\n",
    "\n",
    "plt.plot(unsupervised_loglikelihoods)\n",
    "plt.title(\"unsupervised log likelihoods\")\n",
    "plt.show()"
   ]
  },
  {
   "cell_type": "markdown",
   "metadata": {},
   "source": [
    "We can see that the result converge after about 30 loops, and get our final dicision about the parameter of the Mix-Gaussian model."
   ]
  },
  {
   "cell_type": "markdown",
   "metadata": {},
   "source": [
    "Reference: *https://towardsdatascience.com/implement-expectation-maximization-em-algorithm-in-python-from-scratch-f1278d1b9137*"
   ]
  }
 ],
 "metadata": {
  "kernelspec": {
   "display_name": "Python 3",
   "language": "python",
   "name": "python3"
  },
  "language_info": {
   "codemirror_mode": {
    "name": "ipython",
    "version": 3
   },
   "file_extension": ".py",
   "mimetype": "text/x-python",
   "name": "python",
   "nbconvert_exporter": "python",
   "pygments_lexer": "ipython3",
   "version": "3.6.8"
  }
 },
 "nbformat": 4,
 "nbformat_minor": 2
}
